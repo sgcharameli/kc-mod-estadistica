{
 "cells": [
  {
   "cell_type": "markdown",
   "metadata": {},
   "source": [
    "# Introducción\n",
    "\n",
    "El objetivo de esta práctica es mostrar al alumno las posibilidades que ofrece R para analizar datos de distintas fuentes diferentes, extraer datos, comparar, hacer gráficas y sacar estadísticos.\n",
    "\n",
    "Las fuentes de datos que se tienen son:\n",
    "* Datos meteorológicos de Praga de 1775 hasta 2004: https://www.ncdc.noaa.gov/cdo-web/datasets\n",
    "* Banco mundial: https://data.worldbank.org/topic/climate-change\n",
    "* Nivel de CO2 en la atmósfera (Mauna Loa): https://www.esrl.noaa.gov/gmd/ccgg/trends/data.html\n",
    "\n",
    "Todos los ficheros necesarios para resolver la práctica se ofrecen como adjuntos."
   ]
  },
  {
   "cell_type": "markdown",
   "metadata": {},
   "source": [
    "## Datos meteorológicos NOAA"
   ]
  },
  {
   "cell_type": "markdown",
   "metadata": {},
   "source": [
    "Carga el tiempo meteorológico de Praga en un data.frame. Fichero: *EZE00100082*"
   ]
  },
  {
   "cell_type": "code",
   "execution_count": 2,
   "metadata": {},
   "outputs": [],
   "source": [
    "weatherPraga<-read.csv(\"./datos/EZE00100082.csv\", sep = \",\")"
   ]
  },
  {
   "cell_type": "markdown",
   "metadata": {},
   "source": [
    "Mostrar los 10 años que más precipitiaciones han tenido junto con su valor correspondiente (columna PRCP):"
   ]
  },
  {
   "cell_type": "code",
   "execution_count": 3,
   "metadata": {},
   "outputs": [
    {
     "data": {
      "text/html": [
       "<table>\n",
       "<thead><tr><th></th><th scope=col>DATE</th><th scope=col>PRCP</th></tr></thead>\n",
       "<tbody>\n",
       "\t<tr><th scope=row>165</th><td>1939 </td><td>745.5</td></tr>\n",
       "\t<tr><th scope=row>54</th><td>1828 </td><td>665.4</td></tr>\n",
       "\t<tr><th scope=row>228</th><td>2002 </td><td>661.5</td></tr>\n",
       "\t<tr><th scope=row>172</th><td>1946 </td><td>638.3</td></tr>\n",
       "\t<tr><th scope=row>116</th><td>1890 </td><td>637.3</td></tr>\n",
       "\t<tr><th scope=row>63</th><td>1837 </td><td>634.9</td></tr>\n",
       "\t<tr><th scope=row>184</th><td>1958 </td><td>633.1</td></tr>\n",
       "\t<tr><th scope=row>57</th><td>1831 </td><td>625.7</td></tr>\n",
       "\t<tr><th scope=row>192</th><td>1966 </td><td>624.1</td></tr>\n",
       "\t<tr><th scope=row>55</th><td>1829 </td><td>622.4</td></tr>\n",
       "</tbody>\n",
       "</table>\n"
      ],
      "text/latex": [
       "\\begin{tabular}{r|ll}\n",
       "  & DATE & PRCP\\\\\n",
       "\\hline\n",
       "\t165 & 1939  & 745.5\\\\\n",
       "\t54 & 1828  & 665.4\\\\\n",
       "\t228 & 2002  & 661.5\\\\\n",
       "\t172 & 1946  & 638.3\\\\\n",
       "\t116 & 1890  & 637.3\\\\\n",
       "\t63 & 1837  & 634.9\\\\\n",
       "\t184 & 1958  & 633.1\\\\\n",
       "\t57 & 1831  & 625.7\\\\\n",
       "\t192 & 1966  & 624.1\\\\\n",
       "\t55 & 1829  & 622.4\\\\\n",
       "\\end{tabular}\n"
      ],
      "text/markdown": [
       "\n",
       "| <!--/--> | DATE | PRCP |\n",
       "|---|---|---|\n",
       "| 165 | 1939  | 745.5 |\n",
       "| 54 | 1828  | 665.4 |\n",
       "| 228 | 2002  | 661.5 |\n",
       "| 172 | 1946  | 638.3 |\n",
       "| 116 | 1890  | 637.3 |\n",
       "| 63 | 1837  | 634.9 |\n",
       "| 184 | 1958  | 633.1 |\n",
       "| 57 | 1831  | 625.7 |\n",
       "| 192 | 1966  | 624.1 |\n",
       "| 55 | 1829  | 622.4 |\n",
       "\n"
      ],
      "text/plain": [
       "    DATE PRCP \n",
       "165 1939 745.5\n",
       "54  1828 665.4\n",
       "228 2002 661.5\n",
       "172 1946 638.3\n",
       "116 1890 637.3\n",
       "63  1837 634.9\n",
       "184 1958 633.1\n",
       "57  1831 625.7\n",
       "192 1966 624.1\n",
       "55  1829 622.4"
      ]
     },
     "metadata": {},
     "output_type": "display_data"
    }
   ],
   "source": [
    "#Nos quedamos con las columnas años y precipitaciones\n",
    "precipitacionesPorFecha <- weatherPraga[,c(\"DATE\",\"PRCP\")]\n",
    "#Ordenamos por PRCP y obtenemos los 10 mayores\n",
    "precipitacionesPorFecha[order(-precipitacionesPorFecha$PRCP),][1:10,]"
   ]
  },
  {
   "cell_type": "markdown",
   "metadata": {},
   "source": [
    "* Muestra en un diagrama de dispersión la temperatura mínima registrada en un año (columna EMNT) en función del año registrado (columna DATE).\n",
    "* Crear una regresión lineal (polinomio orden 1) que muestre la tendencia. Pintarla sobre el diagrama de dispersión.\n",
    "* En media, ¿Cuantos grados ha aumentado la temperatura mínima cada año? (pendiente de la  regresión lineal)"
   ]
  },
  {
   "cell_type": "code",
   "execution_count": null,
   "metadata": {},
   "outputs": [],
   "source": []
  },
  {
   "cell_type": "markdown",
   "metadata": {},
   "source": [
    "¿Ha subido realmente la temperatura mínima?\n",
    "* Calcula la media de la temperatura mínima (columna EMNT) del intervalo de años [1775,1794]\n",
    "* Calcula la media de la temperatura mínima (columna EMNT) del intervalo de años [1985,2004]\n",
    "* ¿Cual es la diferencia entre ambos? ¿Es estadísticamente significativa?\n",
    "  * Nota: antes de aplicar un test estadístico hay que ver si cumple con los requisitos de ese test."
   ]
  },
  {
   "cell_type": "code",
   "execution_count": null,
   "metadata": {},
   "outputs": [],
   "source": []
  },
  {
   "cell_type": "markdown",
   "metadata": {},
   "source": [
    "## Datos banco mundial"
   ]
  },
  {
   "cell_type": "markdown",
   "metadata": {},
   "source": [
    "Carga los datos del banco mundial"
   ]
  },
  {
   "cell_type": "code",
   "execution_count": 5,
   "metadata": {},
   "outputs": [
    {
     "name": "stdout",
     "output_type": "stream",
     "text": [
      "[1] \"Tenemos un total de 217 paises\"\n",
      "[1] \"Tenemos un total de 46 regiones\"\n",
      "[1] \"Tenemos un total de 80 indicadores\"\n"
     ]
    }
   ],
   "source": [
    "databank<-read.csv(\"./datos/API_19_DS2_en_csv_v2.csv\",skip=4)\n",
    "#Borramos las X del nombre de la columna\n",
    "colnames(databank)<-gsub(\"X\",\"\",colnames(databank))\n",
    "\n",
    "countryData<-read.csv(\"./datos/Metadata_Country_API_19_DS2_en_csv_v2.csv\")\n",
    "\n",
    "# De esta forma podremos aceder a la información de paises usando su countryCode\n",
    "rownames(countryData)<-countryData$Country.Code\n",
    "\n",
    "realCountryData<-subset(countryData,IncomeGroup!=\"\")\n",
    "regionData<-subset(countryData,IncomeGroup==\"\")\n",
    "print(paste(\"Tenemos un total de\",nrow(realCountryData),\"paises\"))\n",
    "print(paste(\"Tenemos un total de\",nrow(regionData),\"regiones\"))\n",
    "indicators<-read.csv(\"./datos/Metadata_Indicator_API_19_DS2_en_csv_v2.csv\")\n",
    "print(paste(\"Tenemos un total de\",nrow(indicators),\"indicadores\"))"
   ]
  },
  {
   "cell_type": "markdown",
   "metadata": {},
   "source": [
    "¿Cual fue el país que más toneladas de CO2 equivalente emitió en 1970 (Mostrar *Country.Name*)?\n",
    "¿Cuanto contaminó?\n",
    "\n",
    "Hay una dataframe con la lista de pasises en *realCountryData*\n",
    "El número de toneladas de CO2 equivalente viene dado por el Indicator.Code *\"EN.ATM.GHGT.KT.CE\"*\n"
   ]
  },
  {
   "cell_type": "code",
   "execution_count": null,
   "metadata": {},
   "outputs": [],
   "source": []
  },
  {
   "cell_type": "markdown",
   "metadata": {},
   "source": [
    "¿Cuales fueron los 5 países que más toneladas de CO2 equivalente emitieron en 2012? ¿Cuantas kt emitieron?"
   ]
  },
  {
   "cell_type": "code",
   "execution_count": null,
   "metadata": {},
   "outputs": [],
   "source": []
  },
  {
   "cell_type": "markdown",
   "metadata": {},
   "source": [
    "¿Cual ha sido la media del **porcentaje** de crecimiento de las emisiones de CO2 equivalente en China desde 2000 hasta 2012?"
   ]
  },
  {
   "cell_type": "code",
   "execution_count": null,
   "metadata": {
    "collapsed": true
   },
   "outputs": [],
   "source": []
  },
  {
   "cell_type": "markdown",
   "metadata": {},
   "source": [
    "Compara las emisiones de CO2(kt) per cápita (clave en Indicator.Code: *EN.ATM.CO2E.PC*) de todos los paises en 1960,1990 y 2014 mediante:\n",
    "* diagrama de cajas\n",
    "* histograma\n",
    "* curvas de densidad"
   ]
  },
  {
   "cell_type": "code",
   "execution_count": null,
   "metadata": {},
   "outputs": [],
   "source": []
  },
  {
   "cell_type": "code",
   "execution_count": null,
   "metadata": {},
   "outputs": [],
   "source": []
  },
  {
   "cell_type": "code",
   "execution_count": null,
   "metadata": {},
   "outputs": [],
   "source": []
  },
  {
   "cell_type": "markdown",
   "metadata": {},
   "source": [
    "Utilizando ggplot: Compara en una gráfica las emisiones totales de CO2 (clave en Indicator.Code: EN.ATM.CO2E.KT) en función del año de las siguientes regiones:\n",
    "* Mundo entero: WLD\n",
    "* Unión europea: EUU\n",
    "* Africa subsahariana: SSA\n",
    "* Norteamérica: NAC\n",
    "* Este de Asia y pacífico: TEA\n",
    "\n",
    "Ayuda: Tendrás que usar la función *melt()* para transformar los años, cada año en una columna, en un data.frame donde cada uno esté en una fila."
   ]
  },
  {
   "cell_type": "code",
   "execution_count": null,
   "metadata": {
    "scrolled": false
   },
   "outputs": [],
   "source": []
  },
  {
   "cell_type": "markdown",
   "metadata": {},
   "source": [
    "Suponiendo que la tendencia se mantiene, es decir, que no se aplica ninguna política a nivel global de reducción de emisiones de CO2, ¿cual sería el total de emisiones de CO2 en todo el mundo en el año 2020?\n",
    "\n",
    "Para calcularlo utiliza tres modelos lineales:\n",
    "* Regresión lineal con polinomio grado 1\n",
    "* Regresión lineal polinomio grado 3\n",
    "* Regresión lineal polinomio grado 10\n",
    "\n",
    "Represénta en una gráfica el valor real y el calculado por cada uno de los 3 modelos."
   ]
  },
  {
   "cell_type": "code",
   "execution_count": null,
   "metadata": {},
   "outputs": [],
   "source": []
  },
  {
   "cell_type": "markdown",
   "metadata": {},
   "source": [
    "## Nivel de CO2\n",
    "\n",
    "En esta parte vamos a trabajar con el nivel medio de CO2 medido por el NOAA en Manuna Loa (Hawai) desde 1968."
   ]
  },
  {
   "cell_type": "code",
   "execution_count": 32,
   "metadata": {
    "scrolled": true
   },
   "outputs": [],
   "source": [
    "co2ppm<-read.csv(\"./datos/co2_mm_mlo.txt\",skip=73,sep=\"\",header = F, \n",
    "                 col.names= c(\"year\",\"month\",\"date\",\"average\",\"interpolated\",\"trend\",\"days\"))"
   ]
  },
  {
   "cell_type": "markdown",
   "metadata": {},
   "source": [
    "Representa el diagrama de dispersión entre:\n",
    "* CO2 medido en la atmósfera (co2ppm\\$interpolated)\n",
    "* CO2 emitido por todos los países (databank con Indicator.Code==\"EN.ATM.CO2E.KT\" y Country.Code==\"WLD\"?\n",
    "\n",
    "¿Cual es su correlación?\n",
    "\n",
    "\n",
    "Nota: \n",
    "\n",
    "* Los valores en co2ppm vienen en meses, habrá que agregarlos, calcular la media anual a partir de los meses para así poder hacer la correlación con databank.\n",
    "* Los valores en databank vienen en columnas, habrá que pasarlos a filas utilizando la función *melt*."
   ]
  },
  {
   "cell_type": "code",
   "execution_count": null,
   "metadata": {},
   "outputs": [],
   "source": [
    "# Agregamos y calculamos el nivel de CO2 medio anual\n",
    "yearlyco2ppm<-aggregate(interpolated ~ year, data = co2ppm, mean)\n"
   ]
  },
  {
   "cell_type": "markdown",
   "metadata": {},
   "source": [
    "Calcular la matriz de correlación de las siguientes variables:\n",
    "* Cantidad de CO2 en la atmósfera\n",
    "* Emisiones totales CO2 en la atmósfera\n",
    "* Temperatura mínima en praga (columna EMNT)."
   ]
  },
  {
   "cell_type": "code",
   "execution_count": null,
   "metadata": {},
   "outputs": [],
   "source": []
  }
 ],
 "metadata": {
  "kernelspec": {
   "display_name": "R",
   "language": "R",
   "name": "ir"
  },
  "language_info": {
   "codemirror_mode": "r",
   "file_extension": ".r",
   "mimetype": "text/x-r-source",
   "name": "R",
   "pygments_lexer": "r",
   "version": "3.4.4"
  }
 },
 "nbformat": 4,
 "nbformat_minor": 1
}
